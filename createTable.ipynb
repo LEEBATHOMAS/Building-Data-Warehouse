{
 "cells": [
  {
   "cell_type": "code",
   "execution_count": 32,
   "id": "11c708e1-e47e-4f54-8a51-bcd462270742",
   "metadata": {},
   "outputs": [],
   "source": [
    "import psycopg2\n",
    "import pandas as pd"
   ]
  },
  {
   "cell_type": "code",
   "execution_count": 33,
   "id": "76054e0a-fb0f-4b8b-93f0-c4a29b5ed799",
   "metadata": {},
   "outputs": [
    {
     "name": "stdout",
     "output_type": "stream",
     "text": [
      "Requirement already satisfied: psycopg2 in /usr/local/python/3.10.13/lib/python3.10/site-packages (2.9.9)\n",
      "\n",
      "\u001b[1m[\u001b[0m\u001b[34;49mnotice\u001b[0m\u001b[1;39;49m]\u001b[0m\u001b[39;49m A new release of pip is available: \u001b[0m\u001b[31;49m23.3.1\u001b[0m\u001b[39;49m -> \u001b[0m\u001b[32;49m23.3.2\u001b[0m\n",
      "\u001b[1m[\u001b[0m\u001b[34;49mnotice\u001b[0m\u001b[1;39;49m]\u001b[0m\u001b[39;49m To update, run: \u001b[0m\u001b[32;49mpython -m pip install --upgrade pip\u001b[0m\n",
      "Note: you may need to restart the kernel to use updated packages.\n"
     ]
    }
   ],
   "source": [
    "pip install psycopg2"
   ]
  },
  {
   "cell_type": "code",
   "execution_count": 39,
   "id": "38826e7e-4e0b-44fd-8bc9-c95d26b1a7f1",
   "metadata": {},
   "outputs": [],
   "source": [
    "def create_database():\n",
    "    conn = psycopg2.connect(host=\"127.0.0.1\", dbname=\"test_db\", user=\"root\", password=\"root\")\n",
    "    conn.set_session(autocommit=True)\n",
    "    cur = conn.cursor()\n",
    "\n",
    "    cur.execute(\"CREATE DATABASE world\")\n",
    "    conn.close()\n",
    "\n",
    "    conn = psycopg2.connect(host=\"127.0.0.1\", dbname=\"world\", user=\"root\", password=\"root\")\n",
    "    cur = conn.cursor()\n",
    "    \n",
    "    return cur,conn"
   ]
  },
  {
   "cell_type": "code",
   "execution_count": 40,
   "id": "d8d80b69-2a80-4b09-977b-bdaa28495b47",
   "metadata": {},
   "outputs": [],
   "source": [
    "cur,conn = create_database()"
   ]
  },
  {
   "cell_type": "code",
   "execution_count": 14,
   "id": "01b9ed1a-6be6-4465-83a6-9c3c5afeaf7f",
   "metadata": {},
   "outputs": [],
   "source": [
    "countries = pd.read_csv(\"./dataset/countries.csv\")"
   ]
  },
  {
   "cell_type": "code",
   "execution_count": 15,
   "id": "734ee7c1-c7f6-4370-95e9-67c5d3419a1c",
   "metadata": {},
   "outputs": [
    {
     "data": {
      "text/html": [
       "<div>\n",
       "<style scoped>\n",
       "    .dataframe tbody tr th:only-of-type {\n",
       "        vertical-align: middle;\n",
       "    }\n",
       "\n",
       "    .dataframe tbody tr th {\n",
       "        vertical-align: top;\n",
       "    }\n",
       "\n",
       "    .dataframe thead th {\n",
       "        text-align: right;\n",
       "    }\n",
       "</style>\n",
       "<table border=\"1\" class=\"dataframe\">\n",
       "  <thead>\n",
       "    <tr style=\"text-align: right;\">\n",
       "      <th></th>\n",
       "      <th>id</th>\n",
       "      <th>name</th>\n",
       "      <th>iso3</th>\n",
       "      <th>iso2</th>\n",
       "      <th>numeric_code</th>\n",
       "      <th>phone_code</th>\n",
       "      <th>capital</th>\n",
       "      <th>currency</th>\n",
       "      <th>currency_name</th>\n",
       "      <th>currency_symbol</th>\n",
       "      <th>...</th>\n",
       "      <th>region</th>\n",
       "      <th>region_id</th>\n",
       "      <th>subregion</th>\n",
       "      <th>subregion_id</th>\n",
       "      <th>nationality</th>\n",
       "      <th>timezones</th>\n",
       "      <th>latitude</th>\n",
       "      <th>longitude</th>\n",
       "      <th>emoji</th>\n",
       "      <th>emojiU</th>\n",
       "    </tr>\n",
       "  </thead>\n",
       "  <tbody>\n",
       "    <tr>\n",
       "      <th>0</th>\n",
       "      <td>1</td>\n",
       "      <td>Afghanistan</td>\n",
       "      <td>AFG</td>\n",
       "      <td>AF</td>\n",
       "      <td>4</td>\n",
       "      <td>93</td>\n",
       "      <td>Kabul</td>\n",
       "      <td>AFN</td>\n",
       "      <td>Afghan afghani</td>\n",
       "      <td>؋</td>\n",
       "      <td>...</td>\n",
       "      <td>Asia</td>\n",
       "      <td>3.0</td>\n",
       "      <td>Southern Asia</td>\n",
       "      <td>14.0</td>\n",
       "      <td>Afghan</td>\n",
       "      <td>[{zoneName:'Asia\\/Kabul',gmtOffset:16200,gmtOf...</td>\n",
       "      <td>33.0</td>\n",
       "      <td>65.0</td>\n",
       "      <td>🇦🇫</td>\n",
       "      <td>U+1F1E6 U+1F1EB</td>\n",
       "    </tr>\n",
       "  </tbody>\n",
       "</table>\n",
       "<p>1 rows × 22 columns</p>\n",
       "</div>"
      ],
      "text/plain": [
       "   id         name iso3 iso2  numeric_code phone_code capital currency  \\\n",
       "0   1  Afghanistan  AFG   AF             4         93   Kabul      AFN   \n",
       "\n",
       "    currency_name currency_symbol  ... region region_id      subregion  \\\n",
       "0  Afghan afghani               ؋  ...   Asia       3.0  Southern Asia   \n",
       "\n",
       "   subregion_id nationality  \\\n",
       "0          14.0      Afghan   \n",
       "\n",
       "                                           timezones latitude longitude  \\\n",
       "0  [{zoneName:'Asia\\/Kabul',gmtOffset:16200,gmtOf...     33.0      65.0   \n",
       "\n",
       "   emoji           emojiU  \n",
       "0     🇦🇫  U+1F1E6 U+1F1EB  \n",
       "\n",
       "[1 rows x 22 columns]"
      ]
     },
     "execution_count": 15,
     "metadata": {},
     "output_type": "execute_result"
    }
   ],
   "source": [
    "countries.head(1)"
   ]
  },
  {
   "cell_type": "code",
   "execution_count": 16,
   "id": "7326a50f-5cde-4bd7-8c03-7d403e9c6022",
   "metadata": {},
   "outputs": [],
   "source": [
    "states = pd.read_csv(\"./dataset/states.csv\")"
   ]
  },
  {
   "cell_type": "code",
   "execution_count": 17,
   "id": "d8f8d84f-db5e-435c-846d-a3e9c3d37ffb",
   "metadata": {},
   "outputs": [],
   "source": [
    "cities = pd.read_csv(\"./dataset/cities.csv\")"
   ]
  },
  {
   "cell_type": "code",
   "execution_count": 11,
   "id": "57c717f4-2710-43ec-910b-1ba8cdec734f",
   "metadata": {},
   "outputs": [
    {
     "data": {
      "text/html": [
       "<div>\n",
       "<style scoped>\n",
       "    .dataframe tbody tr th:only-of-type {\n",
       "        vertical-align: middle;\n",
       "    }\n",
       "\n",
       "    .dataframe tbody tr th {\n",
       "        vertical-align: top;\n",
       "    }\n",
       "\n",
       "    .dataframe thead th {\n",
       "        text-align: right;\n",
       "    }\n",
       "</style>\n",
       "<table border=\"1\" class=\"dataframe\">\n",
       "  <thead>\n",
       "    <tr style=\"text-align: right;\">\n",
       "      <th></th>\n",
       "      <th>name</th>\n",
       "      <th>country_id</th>\n",
       "      <th>country_code</th>\n",
       "      <th>country_name</th>\n",
       "      <th>state_code</th>\n",
       "      <th>type</th>\n",
       "      <th>latitude</th>\n",
       "      <th>longitude</th>\n",
       "    </tr>\n",
       "    <tr>\n",
       "      <th>id</th>\n",
       "      <th></th>\n",
       "      <th></th>\n",
       "      <th></th>\n",
       "      <th></th>\n",
       "      <th></th>\n",
       "      <th></th>\n",
       "      <th></th>\n",
       "      <th></th>\n",
       "    </tr>\n",
       "  </thead>\n",
       "  <tbody>\n",
       "    <tr>\n",
       "      <th>3901</th>\n",
       "      <td>Badakhshan</td>\n",
       "      <td>1</td>\n",
       "      <td>AF</td>\n",
       "      <td>Afghanistan</td>\n",
       "      <td>BDS</td>\n",
       "      <td>NaN</td>\n",
       "      <td>36.734772</td>\n",
       "      <td>70.811995</td>\n",
       "    </tr>\n",
       "    <tr>\n",
       "      <th>3871</th>\n",
       "      <td>Badghis</td>\n",
       "      <td>1</td>\n",
       "      <td>AF</td>\n",
       "      <td>Afghanistan</td>\n",
       "      <td>BDG</td>\n",
       "      <td>NaN</td>\n",
       "      <td>35.167134</td>\n",
       "      <td>63.769538</td>\n",
       "    </tr>\n",
       "    <tr>\n",
       "      <th>3875</th>\n",
       "      <td>Baghlan</td>\n",
       "      <td>1</td>\n",
       "      <td>AF</td>\n",
       "      <td>Afghanistan</td>\n",
       "      <td>BGL</td>\n",
       "      <td>NaN</td>\n",
       "      <td>36.178903</td>\n",
       "      <td>68.745306</td>\n",
       "    </tr>\n",
       "    <tr>\n",
       "      <th>3884</th>\n",
       "      <td>Balkh</td>\n",
       "      <td>1</td>\n",
       "      <td>AF</td>\n",
       "      <td>Afghanistan</td>\n",
       "      <td>BAL</td>\n",
       "      <td>NaN</td>\n",
       "      <td>36.755060</td>\n",
       "      <td>66.897537</td>\n",
       "    </tr>\n",
       "    <tr>\n",
       "      <th>3872</th>\n",
       "      <td>Bamyan</td>\n",
       "      <td>1</td>\n",
       "      <td>AF</td>\n",
       "      <td>Afghanistan</td>\n",
       "      <td>BAM</td>\n",
       "      <td>NaN</td>\n",
       "      <td>34.810007</td>\n",
       "      <td>67.821210</td>\n",
       "    </tr>\n",
       "  </tbody>\n",
       "</table>\n",
       "</div>"
      ],
      "text/plain": [
       "            name  country_id country_code country_name state_code type  \\\n",
       "id                                                                       \n",
       "3901  Badakhshan           1           AF  Afghanistan        BDS  NaN   \n",
       "3871     Badghis           1           AF  Afghanistan        BDG  NaN   \n",
       "3875     Baghlan           1           AF  Afghanistan        BGL  NaN   \n",
       "3884       Balkh           1           AF  Afghanistan        BAL  NaN   \n",
       "3872      Bamyan           1           AF  Afghanistan        BAM  NaN   \n",
       "\n",
       "       latitude  longitude  \n",
       "id                          \n",
       "3901  36.734772  70.811995  \n",
       "3871  35.167134  63.769538  \n",
       "3875  36.178903  68.745306  \n",
       "3884  36.755060  66.897537  \n",
       "3872  34.810007  67.821210  "
      ]
     },
     "execution_count": 11,
     "metadata": {},
     "output_type": "execute_result"
    }
   ],
   "source": [
    "states.head()"
   ]
  },
  {
   "cell_type": "code",
   "execution_count": 12,
   "id": "fcec7fe4-7291-4eab-bd7a-3564e70426d0",
   "metadata": {},
   "outputs": [
    {
     "data": {
      "text/html": [
       "<div>\n",
       "<style scoped>\n",
       "    .dataframe tbody tr th:only-of-type {\n",
       "        vertical-align: middle;\n",
       "    }\n",
       "\n",
       "    .dataframe tbody tr th {\n",
       "        vertical-align: top;\n",
       "    }\n",
       "\n",
       "    .dataframe thead th {\n",
       "        text-align: right;\n",
       "    }\n",
       "</style>\n",
       "<table border=\"1\" class=\"dataframe\">\n",
       "  <thead>\n",
       "    <tr style=\"text-align: right;\">\n",
       "      <th></th>\n",
       "      <th>name</th>\n",
       "      <th>state_id</th>\n",
       "      <th>state_code</th>\n",
       "      <th>state_name</th>\n",
       "      <th>country_id</th>\n",
       "      <th>country_code</th>\n",
       "      <th>country_name</th>\n",
       "      <th>latitude</th>\n",
       "      <th>longitude</th>\n",
       "      <th>wikiDataId</th>\n",
       "    </tr>\n",
       "    <tr>\n",
       "      <th>id</th>\n",
       "      <th></th>\n",
       "      <th></th>\n",
       "      <th></th>\n",
       "      <th></th>\n",
       "      <th></th>\n",
       "      <th></th>\n",
       "      <th></th>\n",
       "      <th></th>\n",
       "      <th></th>\n",
       "      <th></th>\n",
       "    </tr>\n",
       "  </thead>\n",
       "  <tbody>\n",
       "    <tr>\n",
       "      <th>52</th>\n",
       "      <td>Ashkāsham</td>\n",
       "      <td>3901</td>\n",
       "      <td>BDS</td>\n",
       "      <td>Badakhshan</td>\n",
       "      <td>1</td>\n",
       "      <td>AF</td>\n",
       "      <td>Afghanistan</td>\n",
       "      <td>36.68333</td>\n",
       "      <td>71.53333</td>\n",
       "      <td>Q4805192</td>\n",
       "    </tr>\n",
       "    <tr>\n",
       "      <th>68</th>\n",
       "      <td>Fayzabad</td>\n",
       "      <td>3901</td>\n",
       "      <td>BDS</td>\n",
       "      <td>Badakhshan</td>\n",
       "      <td>1</td>\n",
       "      <td>AF</td>\n",
       "      <td>Afghanistan</td>\n",
       "      <td>37.11664</td>\n",
       "      <td>70.58002</td>\n",
       "      <td>Q156558</td>\n",
       "    </tr>\n",
       "    <tr>\n",
       "      <th>78</th>\n",
       "      <td>Jurm</td>\n",
       "      <td>3901</td>\n",
       "      <td>BDS</td>\n",
       "      <td>Badakhshan</td>\n",
       "      <td>1</td>\n",
       "      <td>AF</td>\n",
       "      <td>Afghanistan</td>\n",
       "      <td>36.86477</td>\n",
       "      <td>70.83421</td>\n",
       "      <td>Q10308323</td>\n",
       "    </tr>\n",
       "    <tr>\n",
       "      <th>84</th>\n",
       "      <td>Khandūd</td>\n",
       "      <td>3901</td>\n",
       "      <td>BDS</td>\n",
       "      <td>Badakhshan</td>\n",
       "      <td>1</td>\n",
       "      <td>AF</td>\n",
       "      <td>Afghanistan</td>\n",
       "      <td>36.95127</td>\n",
       "      <td>72.31800</td>\n",
       "      <td>Q3290334</td>\n",
       "    </tr>\n",
       "    <tr>\n",
       "      <th>115</th>\n",
       "      <td>Rāghistān</td>\n",
       "      <td>3901</td>\n",
       "      <td>BDS</td>\n",
       "      <td>Badakhshan</td>\n",
       "      <td>1</td>\n",
       "      <td>AF</td>\n",
       "      <td>Afghanistan</td>\n",
       "      <td>37.66079</td>\n",
       "      <td>70.67346</td>\n",
       "      <td>Q2670909</td>\n",
       "    </tr>\n",
       "  </tbody>\n",
       "</table>\n",
       "</div>"
      ],
      "text/plain": [
       "          name  state_id state_code  state_name  country_id country_code  \\\n",
       "id                                                                         \n",
       "52   Ashkāsham      3901        BDS  Badakhshan           1           AF   \n",
       "68    Fayzabad      3901        BDS  Badakhshan           1           AF   \n",
       "78        Jurm      3901        BDS  Badakhshan           1           AF   \n",
       "84     Khandūd      3901        BDS  Badakhshan           1           AF   \n",
       "115  Rāghistān      3901        BDS  Badakhshan           1           AF   \n",
       "\n",
       "    country_name  latitude  longitude wikiDataId  \n",
       "id                                                \n",
       "52   Afghanistan  36.68333   71.53333   Q4805192  \n",
       "68   Afghanistan  37.11664   70.58002    Q156558  \n",
       "78   Afghanistan  36.86477   70.83421  Q10308323  \n",
       "84   Afghanistan  36.95127   72.31800   Q3290334  \n",
       "115  Afghanistan  37.66079   70.67346   Q2670909  "
      ]
     },
     "execution_count": 12,
     "metadata": {},
     "output_type": "execute_result"
    }
   ],
   "source": [
    "cities.head()"
   ]
  },
  {
   "cell_type": "code",
   "execution_count": 18,
   "id": "c5058c6c-dae6-41ed-82c0-5dc493a7b2c4",
   "metadata": {},
   "outputs": [
    {
     "data": {
      "text/plain": [
       "Index(['id', 'name', 'iso3', 'iso2', 'numeric_code', 'phone_code', 'capital',\n",
       "       'currency', 'currency_name', 'currency_symbol', 'tld', 'native',\n",
       "       'region', 'region_id', 'subregion', 'subregion_id', 'nationality',\n",
       "       'timezones', 'latitude', 'longitude', 'emoji', 'emojiU'],\n",
       "      dtype='object')"
      ]
     },
     "execution_count": 18,
     "metadata": {},
     "output_type": "execute_result"
    }
   ],
   "source": [
    "countries.columns"
   ]
  },
  {
   "cell_type": "code",
   "execution_count": 19,
   "id": "b75dc426-afe6-4711-8a4b-786eda87af2f",
   "metadata": {},
   "outputs": [],
   "source": [
    "countries = countries[['id', 'name','phone_code', 'region','nationality']]"
   ]
  },
  {
   "cell_type": "code",
   "execution_count": 20,
   "id": "7686af9a-bf5e-4cdf-b392-324fbf892b88",
   "metadata": {},
   "outputs": [
    {
     "data": {
      "text/html": [
       "<div>\n",
       "<style scoped>\n",
       "    .dataframe tbody tr th:only-of-type {\n",
       "        vertical-align: middle;\n",
       "    }\n",
       "\n",
       "    .dataframe tbody tr th {\n",
       "        vertical-align: top;\n",
       "    }\n",
       "\n",
       "    .dataframe thead th {\n",
       "        text-align: right;\n",
       "    }\n",
       "</style>\n",
       "<table border=\"1\" class=\"dataframe\">\n",
       "  <thead>\n",
       "    <tr style=\"text-align: right;\">\n",
       "      <th></th>\n",
       "      <th>id</th>\n",
       "      <th>name</th>\n",
       "      <th>phone_code</th>\n",
       "      <th>region</th>\n",
       "      <th>nationality</th>\n",
       "    </tr>\n",
       "  </thead>\n",
       "  <tbody>\n",
       "    <tr>\n",
       "      <th>0</th>\n",
       "      <td>1</td>\n",
       "      <td>Afghanistan</td>\n",
       "      <td>93</td>\n",
       "      <td>Asia</td>\n",
       "      <td>Afghan</td>\n",
       "    </tr>\n",
       "    <tr>\n",
       "      <th>1</th>\n",
       "      <td>2</td>\n",
       "      <td>Aland Islands</td>\n",
       "      <td>+358-18</td>\n",
       "      <td>Europe</td>\n",
       "      <td>Aland Island</td>\n",
       "    </tr>\n",
       "    <tr>\n",
       "      <th>2</th>\n",
       "      <td>3</td>\n",
       "      <td>Albania</td>\n",
       "      <td>355</td>\n",
       "      <td>Europe</td>\n",
       "      <td>Albanian</td>\n",
       "    </tr>\n",
       "    <tr>\n",
       "      <th>3</th>\n",
       "      <td>4</td>\n",
       "      <td>Algeria</td>\n",
       "      <td>213</td>\n",
       "      <td>Africa</td>\n",
       "      <td>Algerian</td>\n",
       "    </tr>\n",
       "    <tr>\n",
       "      <th>4</th>\n",
       "      <td>5</td>\n",
       "      <td>American Samoa</td>\n",
       "      <td>+1-684</td>\n",
       "      <td>Oceania</td>\n",
       "      <td>American Samoan</td>\n",
       "    </tr>\n",
       "  </tbody>\n",
       "</table>\n",
       "</div>"
      ],
      "text/plain": [
       "   id            name phone_code   region      nationality\n",
       "0   1     Afghanistan         93     Asia           Afghan\n",
       "1   2   Aland Islands    +358-18   Europe     Aland Island\n",
       "2   3         Albania        355   Europe        Albanian \n",
       "3   4         Algeria        213   Africa         Algerian\n",
       "4   5  American Samoa     +1-684  Oceania  American Samoan"
      ]
     },
     "execution_count": 20,
     "metadata": {},
     "output_type": "execute_result"
    }
   ],
   "source": [
    "countries.head()"
   ]
  },
  {
   "cell_type": "code",
   "execution_count": 22,
   "id": "d438dbbd-ef2d-4044-a180-29c72fd4e1d0",
   "metadata": {},
   "outputs": [
    {
     "data": {
      "text/plain": [
       "Index(['id', 'name', 'country_id', 'country_code', 'country_name',\n",
       "       'state_code', 'type', 'latitude', 'longitude'],\n",
       "      dtype='object')"
      ]
     },
     "execution_count": 22,
     "metadata": {},
     "output_type": "execute_result"
    }
   ],
   "source": [
    "states.columns"
   ]
  },
  {
   "cell_type": "code",
   "execution_count": 23,
   "id": "35b6b049-0620-4127-8f0f-1cf5ecc6f845",
   "metadata": {},
   "outputs": [],
   "source": [
    "states = states[['id', 'name', 'country_id', 'country_code','state_code', 'type']]"
   ]
  },
  {
   "cell_type": "code",
   "execution_count": 24,
   "id": "ba2ed07f-ff59-4e16-b581-5a3f8fb55834",
   "metadata": {},
   "outputs": [
    {
     "data": {
      "text/plain": [
       "Index(['id', 'name', 'state_id', 'state_code', 'state_name', 'country_id',\n",
       "       'country_code', 'country_name', 'latitude', 'longitude', 'wikiDataId'],\n",
       "      dtype='object')"
      ]
     },
     "execution_count": 24,
     "metadata": {},
     "output_type": "execute_result"
    }
   ],
   "source": [
    "cities.columns"
   ]
  },
  {
   "cell_type": "code",
   "execution_count": 25,
   "id": "ac79e428-4e81-4aeb-b677-2cfea5f7dd17",
   "metadata": {},
   "outputs": [],
   "source": [
    "cities=cities[['id', 'name', 'state_id', 'country_id','latitude', 'longitude']]"
   ]
  },
  {
   "cell_type": "code",
   "execution_count": 45,
   "id": "1bee2911-f770-4256-b7c1-0c32897ecaef",
   "metadata": {},
   "outputs": [],
   "source": [
    "countries_create_table=(\"\"\"CREATE TABLE IF NOT EXists countries(\n",
    "    id int primary key,\n",
    "    name varchar,\n",
    "    phone_code varchar,\n",
    "    region varchar,\n",
    "    nationality varchar)\"\"\")"
   ]
  },
  {
   "cell_type": "code",
   "execution_count": 2,
   "id": "b591c70c-87d4-4621-95c8-29267b4b99c2",
   "metadata": {},
   "outputs": [],
   "source": [
    "state_create_table=(\"\"\"CREATE TABLE IF NOT EXists state(\n",
    "    id int primary key,\n",
    "    name varchar,\n",
    "    country_id int,\n",
    "    country_code varchar,\n",
    "    state_code varchar,\n",
    "    type varchar,\n",
    "    CONSTRAINT fk_countries\n",
    "      FOREIGN KEY(country_id) \n",
    "\t  REFERENCES countries(id))\"\"\")"
   ]
  },
  {
   "cell_type": "code",
   "execution_count": 1,
   "id": "f7525647-97d2-4390-b1e6-f28495e60796",
   "metadata": {},
   "outputs": [],
   "source": [
    "cities_create_table=(\"\"\"CREATE TABLE IF NOT EXists cities(\n",
    "    id int primary key,\n",
    "    name varchar,\n",
    "    state_id int,\n",
    "    country_id int,\n",
    "    lattitude varchar,\n",
    "    longitude varchar,\n",
    "    CONSTRAINT fk_countries\n",
    "      FOREIGN KEY(country_id) \n",
    "\t  REFERENCES countries(id),\n",
    "   CONSTRAINT fk_state\n",
    "      FOREIGN KEY(state_id) \n",
    "\t  REFERENCES state(id))\"\"\")"
   ]
  },
  {
   "cell_type": "code",
   "execution_count": 76,
   "id": "b1574364-2b26-4ce8-9dab-42dbf4dd0848",
   "metadata": {},
   "outputs": [],
   "source": [
    "conn = psycopg2.connect(host=\"127.0.0.1\", dbname=\"world\", user=\"root\", password=\"root\")\n",
    "cur = conn.cursor()"
   ]
  },
  {
   "cell_type": "code",
   "execution_count": 77,
   "id": "a71a15c8-8765-4f1a-9aea-a53cf542fa9b",
   "metadata": {},
   "outputs": [],
   "source": [
    "cur.execute(countries_create_table)\n",
    "conn.commit()"
   ]
  },
  {
   "cell_type": "code",
   "execution_count": 78,
   "id": "dcb2ccf9-cc87-4e5e-9449-feb5bbf134e8",
   "metadata": {},
   "outputs": [],
   "source": [
    "cur1 = conn.cursor()\n",
    "cur1.execute(state_create_table)\n",
    "conn.commit()"
   ]
  },
  {
   "cell_type": "code",
   "execution_count": 79,
   "id": "c5805c40-6063-403f-ac67-629646a3b686",
   "metadata": {},
   "outputs": [],
   "source": [
    "\n",
    "cur.execute(cities_create_table)\n",
    "conn.commit()"
   ]
  },
  {
   "cell_type": "code",
   "execution_count": 60,
   "id": "d164255b-272b-4e79-a8d2-82ec9e61d8e8",
   "metadata": {},
   "outputs": [],
   "source": [
    "try:\n",
    "    cur = conn.cursor()\n",
    "except psycopg2.Error as e:\n",
    "    print(\"Error : Could not get cursor to DB\")\n",
    "    print(e)"
   ]
  },
  {
   "cell_type": "code",
   "execution_count": 61,
   "id": "5063be0a-762f-4fd2-acf0-45ff39e8fcce",
   "metadata": {},
   "outputs": [
    {
     "ename": "ProgrammingError",
     "evalue": "set_session cannot be used inside a transaction",
     "output_type": "error",
     "traceback": [
      "\u001b[0;31m---------------------------------------------------------------------------\u001b[0m",
      "\u001b[0;31mProgrammingError\u001b[0m                          Traceback (most recent call last)",
      "Cell \u001b[0;32mIn[61], line 1\u001b[0m\n\u001b[0;32m----> 1\u001b[0m \u001b[43mconn\u001b[49m\u001b[38;5;241;43m.\u001b[39;49m\u001b[43mset_session\u001b[49m\u001b[43m(\u001b[49m\u001b[43mautocommit\u001b[49m\u001b[38;5;241;43m=\u001b[39;49m\u001b[38;5;28;43;01mTrue\u001b[39;49;00m\u001b[43m)\u001b[49m\n",
      "\u001b[0;31mProgrammingError\u001b[0m: set_session cannot be used inside a transaction"
     ]
    }
   ],
   "source": [
    "conn.set_session(autocommit=True)"
   ]
  },
  {
   "cell_type": "code",
   "execution_count": 62,
   "id": "b673a58f-e358-473e-9b30-021adbbdadac",
   "metadata": {},
   "outputs": [],
   "source": [
    "# try:\n",
    "#     cur.execute(\"create database myfirstdb\")\n",
    "# except psycopg2.Error as e:\n",
    "#     print(\"Error : Could not create DB\")\n",
    "#     print(e)\n",
    "    "
   ]
  },
  {
   "cell_type": "code",
   "execution_count": 63,
   "id": "6885abbc-726e-4713-8c86-45ea7f08eb4d",
   "metadata": {},
   "outputs": [
    {
     "name": "stdout",
     "output_type": "stream",
     "text": [
      "Error : Could not get cursor to DB\n",
      "current transaction is aborted, commands ignored until end of transaction block\n",
      "\n"
     ]
    }
   ],
   "source": [
    "try:\n",
    "    cur.execute(\"insert into students(student_id, name, age, gender,subject,marks) values (%s,%s,%s,%s,%s,%s)\",(1,\"Leeba\",23,\"F\",\"Maths\",100))\n",
    "except psycopg2.Error as e:\n",
    "    print(\"Error : Could not get cursor to DB\")\n",
    "    print(e)"
   ]
  },
  {
   "cell_type": "code",
   "execution_count": 15,
   "id": "4d766d9c-e8c9-4f61-83fe-52ac0fb2287b",
   "metadata": {},
   "outputs": [],
   "source": [
    "try:\n",
    "    cur.execute(\"insert into students(student_id, name, age, gender,subject,marks) values (%s,%s,%s,%s,%s,%s)\",(1,\"Leeba\",23,\"F\",\"Maths\",100))\n",
    "except psycopg2.Error as e:\n",
    "    print(\"Error : Could not get cursor to DB\")\n",
    "    print(e)"
   ]
  }
 ],
 "metadata": {
  "kernelspec": {
   "display_name": "Python 3 (ipykernel)",
   "language": "python",
   "name": "python3"
  },
  "language_info": {
   "codemirror_mode": {
    "name": "ipython",
    "version": 3
   },
   "file_extension": ".py",
   "mimetype": "text/x-python",
   "name": "python",
   "nbconvert_exporter": "python",
   "pygments_lexer": "ipython3",
   "version": "3.10.13"
  }
 },
 "nbformat": 4,
 "nbformat_minor": 5
}
